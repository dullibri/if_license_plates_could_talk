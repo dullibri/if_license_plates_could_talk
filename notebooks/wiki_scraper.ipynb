{
 "cells": [
  {
   "cell_type": "code",
   "execution_count": 1,
   "source": [
    "import pandas as pd\n",
    "from bs4 import BeautifulSoup\n",
    "import requests\n",
    "import re"
   ],
   "outputs": [],
   "metadata": {}
  },
  {
   "cell_type": "markdown",
   "source": [
    "## Landkreise"
   ],
   "metadata": {}
  },
  {
   "cell_type": "code",
   "execution_count": 9,
   "source": [
    "wiki_kreise = requests.get(\"https://de.wikipedia.org/wiki/Liste_der_Landkreise_in_Deutschland\")\n",
    "\n",
    "soup = BeautifulSoup(wiki_kreise.text)\n",
    "\n",
    "df_kreise = pd.DataFrame()\n",
    "\n",
    "for tr in soup.find_all('tr'):\n",
    "    \"\"\"Format: <tr>\n",
    "                <td>REGIONAL_SCHLÜSSEL</td>\n",
    "                <td>LANDKREIS</td>\n",
    "                <td>KFZ-KENNZ</td>\n",
    "                <td>BUNDESLAND</td>\n",
    "                <td>KREISSITZ</td>\n",
    "                <td>EINWOHNER</td>\n",
    "                <td>FLÄCHE</td>\n",
    "                <td>BeVÖLKERUNGSDICHTE</td>\n",
    "                <td>KARTE</td></tr>\n",
    "                <tr>\"\"\"\n",
    "    tds = tr.find_all('td')\n",
    "    if(len(tds)>5):\n",
    "        kreis_key = tds[0].text.strip()\n",
    "        kreis = tds[1].text.split(\",\")[0].strip()\n",
    "        license_plates = tds[2].text.replace(\",\", \" \").replace(\"(\", \" \").replace(\")\", \" \").split()\n",
    "\n",
    "        for license_plate in license_plates:\n",
    "            df_kreise = df_kreise.append({\"license_plate\": license_plate.strip(), \"kreis_key\": kreis_key}, ignore_index = True)\n",
    "\n",
    "df_kreise"
   ],
   "outputs": [
    {
     "output_type": "execute_result",
     "data": {
      "text/plain": [
       "    license_plate kreis_key\n",
       "0              AC     05334\n",
       "1             MON     05334\n",
       "2              AW     07131\n",
       "3             AIC     09771\n",
       "4             FDB     09771\n",
       "..            ...       ...\n",
       "660           HCH     08417\n",
       "661             Z     14524\n",
       "662            GC     14524\n",
       "663           HOT     14524\n",
       "664           WDA     14524\n",
       "\n",
       "[665 rows x 2 columns]"
      ],
      "text/html": [
       "<div>\n",
       "<style scoped>\n",
       "    .dataframe tbody tr th:only-of-type {\n",
       "        vertical-align: middle;\n",
       "    }\n",
       "\n",
       "    .dataframe tbody tr th {\n",
       "        vertical-align: top;\n",
       "    }\n",
       "\n",
       "    .dataframe thead th {\n",
       "        text-align: right;\n",
       "    }\n",
       "</style>\n",
       "<table border=\"1\" class=\"dataframe\">\n",
       "  <thead>\n",
       "    <tr style=\"text-align: right;\">\n",
       "      <th></th>\n",
       "      <th>license_plate</th>\n",
       "      <th>kreis_key</th>\n",
       "    </tr>\n",
       "  </thead>\n",
       "  <tbody>\n",
       "    <tr>\n",
       "      <th>0</th>\n",
       "      <td>AC</td>\n",
       "      <td>05334</td>\n",
       "    </tr>\n",
       "    <tr>\n",
       "      <th>1</th>\n",
       "      <td>MON</td>\n",
       "      <td>05334</td>\n",
       "    </tr>\n",
       "    <tr>\n",
       "      <th>2</th>\n",
       "      <td>AW</td>\n",
       "      <td>07131</td>\n",
       "    </tr>\n",
       "    <tr>\n",
       "      <th>3</th>\n",
       "      <td>AIC</td>\n",
       "      <td>09771</td>\n",
       "    </tr>\n",
       "    <tr>\n",
       "      <th>4</th>\n",
       "      <td>FDB</td>\n",
       "      <td>09771</td>\n",
       "    </tr>\n",
       "    <tr>\n",
       "      <th>...</th>\n",
       "      <td>...</td>\n",
       "      <td>...</td>\n",
       "    </tr>\n",
       "    <tr>\n",
       "      <th>660</th>\n",
       "      <td>HCH</td>\n",
       "      <td>08417</td>\n",
       "    </tr>\n",
       "    <tr>\n",
       "      <th>661</th>\n",
       "      <td>Z</td>\n",
       "      <td>14524</td>\n",
       "    </tr>\n",
       "    <tr>\n",
       "      <th>662</th>\n",
       "      <td>GC</td>\n",
       "      <td>14524</td>\n",
       "    </tr>\n",
       "    <tr>\n",
       "      <th>663</th>\n",
       "      <td>HOT</td>\n",
       "      <td>14524</td>\n",
       "    </tr>\n",
       "    <tr>\n",
       "      <th>664</th>\n",
       "      <td>WDA</td>\n",
       "      <td>14524</td>\n",
       "    </tr>\n",
       "  </tbody>\n",
       "</table>\n",
       "<p>665 rows × 2 columns</p>\n",
       "</div>"
      ]
     },
     "metadata": {},
     "execution_count": 9
    }
   ],
   "metadata": {}
  },
  {
   "cell_type": "markdown",
   "source": [
    "## Kreisfreie Städte"
   ],
   "metadata": {}
  },
  {
   "cell_type": "code",
   "execution_count": 10,
   "source": [
    "wiki_städte = requests.get(\"https://de.wikipedia.org/wiki/Liste_der_kreisfreien_St%C3%A4dte_in_Deutschland\")\n",
    "\n",
    "soup = BeautifulSoup(wiki_städte.text)\n",
    "\n",
    "df_städte = pd.DataFrame()\n",
    "\n",
    "for tr in soup.find_all('tr'):\n",
    "    \"\"\" Format:\n",
    "    <tr>\n",
    "        <td>WAPPEN</td>\n",
    "        <td>STADT</td>\n",
    "        <td>REGIONALSCHLÜSSEL\n",
    "        </td>\n",
    "        <td>BUNDESLAND</td>\n",
    "        <td>RGIERUNGSBEZIRK</td>\n",
    "        <td>KFZ-KENNZEICHEN\n",
    "        </td>\n",
    "        <td>FLÄCHE\n",
    "        </td>\n",
    "        <td>TEINWOHNER 1939\n",
    "        </td>\n",
    "        <td>TEINWOHNER 1950\n",
    "        </td>\n",
    "        <td>TEINWOHNER 1970\n",
    "        </td>\n",
    "        <td>TEINWOHNER 1990\n",
    "        </td>\n",
    "        <td>TEINWOHNER 2011\n",
    "        </td>\n",
    "        <td>EINWOHNER 2020</small>\n",
    "        </td>\n",
    "        <td>BEVDICHTE\n",
    "        </td>\n",
    "        <td>KARTE</td></tr>\n",
    "    \"\"\"\n",
    "    tds = tr.find_all('td')\n",
    "    if(len(tds) > 12):\n",
    "        kreis_key = tds[2].text.strip()\n",
    "        kreis = re.split(\"\\(|\\[\", tds[1].text)[0].strip()\n",
    "        license_plates = tds[5].text.replace(\",\", \" \").replace(\"(\", \" \").replace(\")\", \" \").split()\n",
    "\n",
    "        if(all(df_kreise[\"kreis_key\"] != kreis_key)): # Avoid duplicates\n",
    "            for license_plate in license_plates:\n",
    "                df_städte = df_städte.append({\"license_plate\": license_plate.strip(), \"kreis_key\": kreis_key}, ignore_index = True)\n",
    "\n",
    "df_städte"
   ],
   "outputs": [
    {
     "output_type": "execute_result",
     "data": {
      "text/plain": [
       "    license_plate kreis_key\n",
       "0              AM     09361\n",
       "1              AN     09561\n",
       "2              AB     09661\n",
       "3               A     09761\n",
       "4             BAD     08211\n",
       "..            ...       ...\n",
       "106           WOB     03103\n",
       "107            WO     07319\n",
       "108             W     05124\n",
       "109            WÜ     09663\n",
       "110            ZW     07320\n",
       "\n",
       "[111 rows x 2 columns]"
      ],
      "text/html": [
       "<div>\n",
       "<style scoped>\n",
       "    .dataframe tbody tr th:only-of-type {\n",
       "        vertical-align: middle;\n",
       "    }\n",
       "\n",
       "    .dataframe tbody tr th {\n",
       "        vertical-align: top;\n",
       "    }\n",
       "\n",
       "    .dataframe thead th {\n",
       "        text-align: right;\n",
       "    }\n",
       "</style>\n",
       "<table border=\"1\" class=\"dataframe\">\n",
       "  <thead>\n",
       "    <tr style=\"text-align: right;\">\n",
       "      <th></th>\n",
       "      <th>license_plate</th>\n",
       "      <th>kreis_key</th>\n",
       "    </tr>\n",
       "  </thead>\n",
       "  <tbody>\n",
       "    <tr>\n",
       "      <th>0</th>\n",
       "      <td>AM</td>\n",
       "      <td>09361</td>\n",
       "    </tr>\n",
       "    <tr>\n",
       "      <th>1</th>\n",
       "      <td>AN</td>\n",
       "      <td>09561</td>\n",
       "    </tr>\n",
       "    <tr>\n",
       "      <th>2</th>\n",
       "      <td>AB</td>\n",
       "      <td>09661</td>\n",
       "    </tr>\n",
       "    <tr>\n",
       "      <th>3</th>\n",
       "      <td>A</td>\n",
       "      <td>09761</td>\n",
       "    </tr>\n",
       "    <tr>\n",
       "      <th>4</th>\n",
       "      <td>BAD</td>\n",
       "      <td>08211</td>\n",
       "    </tr>\n",
       "    <tr>\n",
       "      <th>...</th>\n",
       "      <td>...</td>\n",
       "      <td>...</td>\n",
       "    </tr>\n",
       "    <tr>\n",
       "      <th>106</th>\n",
       "      <td>WOB</td>\n",
       "      <td>03103</td>\n",
       "    </tr>\n",
       "    <tr>\n",
       "      <th>107</th>\n",
       "      <td>WO</td>\n",
       "      <td>07319</td>\n",
       "    </tr>\n",
       "    <tr>\n",
       "      <th>108</th>\n",
       "      <td>W</td>\n",
       "      <td>05124</td>\n",
       "    </tr>\n",
       "    <tr>\n",
       "      <th>109</th>\n",
       "      <td>WÜ</td>\n",
       "      <td>09663</td>\n",
       "    </tr>\n",
       "    <tr>\n",
       "      <th>110</th>\n",
       "      <td>ZW</td>\n",
       "      <td>07320</td>\n",
       "    </tr>\n",
       "  </tbody>\n",
       "</table>\n",
       "<p>111 rows × 2 columns</p>\n",
       "</div>"
      ]
     },
     "metadata": {},
     "execution_count": 10
    }
   ],
   "metadata": {}
  },
  {
   "cell_type": "code",
   "execution_count": 11,
   "source": [
    "any(df_kreise.duplicated()) or any(df_städte.duplicated()) # check for duplicates"
   ],
   "outputs": [
    {
     "output_type": "execute_result",
     "data": {
      "text/plain": [
       "False"
      ]
     },
     "metadata": {},
     "execution_count": 11
    }
   ],
   "metadata": {}
  },
  {
   "cell_type": "code",
   "execution_count": 12,
   "source": [
    "df = pd.concat([df_städte, df_kreise])\n",
    "df.info()"
   ],
   "outputs": [
    {
     "output_type": "stream",
     "name": "stdout",
     "text": [
      "<class 'pandas.core.frame.DataFrame'>\n",
      "Int64Index: 776 entries, 0 to 664\n",
      "Data columns (total 2 columns):\n",
      " #   Column         Non-Null Count  Dtype \n",
      "---  ------         --------------  ----- \n",
      " 0   license_plate  776 non-null    object\n",
      " 1   kreis_key      776 non-null    object\n",
      "dtypes: object(2)\n",
      "memory usage: 18.2+ KB\n"
     ]
    }
   ],
   "metadata": {}
  },
  {
   "cell_type": "code",
   "execution_count": 13,
   "source": [
    "df[\"kreis_key\"].replace({\"11001\": \"11000\"}, inplace = True) # Fix regional code of Berlin (\"11000\")"
   ],
   "outputs": [],
   "metadata": {}
  },
  {
   "cell_type": "code",
   "execution_count": 14,
   "source": [
    "df.to_csv(\"license_plates.csv\")"
   ],
   "outputs": [],
   "metadata": {}
  }
 ],
 "metadata": {
  "orig_nbformat": 4,
  "language_info": {
   "name": "python",
   "version": "3.9.2",
   "mimetype": "text/x-python",
   "codemirror_mode": {
    "name": "ipython",
    "version": 3
   },
   "pygments_lexer": "ipython3",
   "nbconvert_exporter": "python",
   "file_extension": ".py"
  },
  "kernelspec": {
   "name": "python3",
   "display_name": "Python 3.9.2 64-bit ('env': venv)"
  },
  "interpreter": {
   "hash": "ac92c7ad7e1c679c936e9af8f600d69f4d841fe404e5c5fd7a52713169de6bd4"
  }
 },
 "nbformat": 4,
 "nbformat_minor": 2
}