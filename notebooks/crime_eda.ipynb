{
 "cells": [
  {
   "cell_type": "code",
   "execution_count": 1,
   "source": [
    "import pandas as pd\n",
    "import sys\n",
    "\n",
    "from if_license_plates_could_talk import data"
   ],
   "outputs": [],
   "metadata": {}
  },
  {
   "cell_type": "code",
   "execution_count": 2,
   "source": [
    "df = pd.read_csv(\"../data/raw/crime/bka/2018/BKA-LKS-F-03-T01-Kreise_csv.csv\", encoding=\"ISO-8859-1\",\n",
    "                     delimiter=\";\", skiprows=1, thousands=\",\")\n",
    "crime_clm = \"crimes_2018\"\n",
    "df.rename(columns={\"Gemeindeschlüssel\": \"kreis_key\", \"Anzahl erfasste Faelle\": crime_clm,\n",
    "              \"erfasste Fälle\": crime_clm, \"Gemeindeschluessel\": \"kreis_key\", \"erfasste Faelle\": crime_clm}, inplace=True)"
   ],
   "outputs": [],
   "metadata": {}
  },
  {
   "cell_type": "code",
   "execution_count": 3,
   "source": [
    "potential_fraud_categories = [\"Betrug §§ 263, 263a, 264, 264a, 265, 265a-e StGB\", \"Urkundenfälschung §§ 267-271, 273-279, 281 StGB\"]"
   ],
   "outputs": [],
   "metadata": {}
  },
  {
   "cell_type": "code",
   "execution_count": 4,
   "source": [
    "df_fraud = df[data.crime.fraud_filter(df)][[\"kreis_key\", \"Straftat\", \"crimes_2018\"]]"
   ],
   "outputs": [],
   "metadata": {}
  },
  {
   "cell_type": "code",
   "execution_count": 5,
   "source": [
    "df_fraud.head()"
   ],
   "outputs": [
    {
     "output_type": "execute_result",
     "data": {
      "text/plain": [
       "      kreis_key                                          Straftat  crimes_2018\n",
       "8421       1001  Betrug §§ 263, 263a, 264, 264a, 265, 265a-e StGB          765\n",
       "8422       1002  Betrug §§ 263, 263a, 264, 264a, 265, 265a-e StGB         2118\n",
       "8423       1003  Betrug §§ 263, 263a, 264, 264a, 265, 265a-e StGB         1889\n",
       "8424       1004  Betrug §§ 263, 263a, 264, 264a, 265, 265a-e StGB         1253\n",
       "8425       1051  Betrug §§ 263, 263a, 264, 264a, 265, 265a-e StGB          820"
      ],
      "text/html": [
       "<div>\n",
       "<style scoped>\n",
       "    .dataframe tbody tr th:only-of-type {\n",
       "        vertical-align: middle;\n",
       "    }\n",
       "\n",
       "    .dataframe tbody tr th {\n",
       "        vertical-align: top;\n",
       "    }\n",
       "\n",
       "    .dataframe thead th {\n",
       "        text-align: right;\n",
       "    }\n",
       "</style>\n",
       "<table border=\"1\" class=\"dataframe\">\n",
       "  <thead>\n",
       "    <tr style=\"text-align: right;\">\n",
       "      <th></th>\n",
       "      <th>kreis_key</th>\n",
       "      <th>Straftat</th>\n",
       "      <th>crimes_2018</th>\n",
       "    </tr>\n",
       "  </thead>\n",
       "  <tbody>\n",
       "    <tr>\n",
       "      <th>8421</th>\n",
       "      <td>1001</td>\n",
       "      <td>Betrug §§ 263, 263a, 264, 264a, 265, 265a-e StGB</td>\n",
       "      <td>765</td>\n",
       "    </tr>\n",
       "    <tr>\n",
       "      <th>8422</th>\n",
       "      <td>1002</td>\n",
       "      <td>Betrug §§ 263, 263a, 264, 264a, 265, 265a-e StGB</td>\n",
       "      <td>2118</td>\n",
       "    </tr>\n",
       "    <tr>\n",
       "      <th>8423</th>\n",
       "      <td>1003</td>\n",
       "      <td>Betrug §§ 263, 263a, 264, 264a, 265, 265a-e StGB</td>\n",
       "      <td>1889</td>\n",
       "    </tr>\n",
       "    <tr>\n",
       "      <th>8424</th>\n",
       "      <td>1004</td>\n",
       "      <td>Betrug §§ 263, 263a, 264, 264a, 265, 265a-e StGB</td>\n",
       "      <td>1253</td>\n",
       "    </tr>\n",
       "    <tr>\n",
       "      <th>8425</th>\n",
       "      <td>1051</td>\n",
       "      <td>Betrug §§ 263, 263a, 264, 264a, 265, 265a-e StGB</td>\n",
       "      <td>820</td>\n",
       "    </tr>\n",
       "  </tbody>\n",
       "</table>\n",
       "</div>"
      ]
     },
     "metadata": {},
     "execution_count": 5
    }
   ],
   "metadata": {}
  },
  {
   "cell_type": "code",
   "execution_count": 6,
   "source": [
    "df_fraud.groupby(\"kreis_key\").sum().reset_index()"
   ],
   "outputs": [
    {
     "output_type": "execute_result",
     "data": {
      "text/plain": [
       "     kreis_key  crimes_2018\n",
       "0         1001          886\n",
       "1         1002         2406\n",
       "2         1003         2138\n",
       "3         1004         1488\n",
       "4         1051          945\n",
       "..         ...          ...\n",
       "396      16073          631\n",
       "397      16074          767\n",
       "398      16075          641\n",
       "399      16076          750\n",
       "400      16077          939\n",
       "\n",
       "[401 rows x 2 columns]"
      ],
      "text/html": [
       "<div>\n",
       "<style scoped>\n",
       "    .dataframe tbody tr th:only-of-type {\n",
       "        vertical-align: middle;\n",
       "    }\n",
       "\n",
       "    .dataframe tbody tr th {\n",
       "        vertical-align: top;\n",
       "    }\n",
       "\n",
       "    .dataframe thead th {\n",
       "        text-align: right;\n",
       "    }\n",
       "</style>\n",
       "<table border=\"1\" class=\"dataframe\">\n",
       "  <thead>\n",
       "    <tr style=\"text-align: right;\">\n",
       "      <th></th>\n",
       "      <th>kreis_key</th>\n",
       "      <th>crimes_2018</th>\n",
       "    </tr>\n",
       "  </thead>\n",
       "  <tbody>\n",
       "    <tr>\n",
       "      <th>0</th>\n",
       "      <td>1001</td>\n",
       "      <td>886</td>\n",
       "    </tr>\n",
       "    <tr>\n",
       "      <th>1</th>\n",
       "      <td>1002</td>\n",
       "      <td>2406</td>\n",
       "    </tr>\n",
       "    <tr>\n",
       "      <th>2</th>\n",
       "      <td>1003</td>\n",
       "      <td>2138</td>\n",
       "    </tr>\n",
       "    <tr>\n",
       "      <th>3</th>\n",
       "      <td>1004</td>\n",
       "      <td>1488</td>\n",
       "    </tr>\n",
       "    <tr>\n",
       "      <th>4</th>\n",
       "      <td>1051</td>\n",
       "      <td>945</td>\n",
       "    </tr>\n",
       "    <tr>\n",
       "      <th>...</th>\n",
       "      <td>...</td>\n",
       "      <td>...</td>\n",
       "    </tr>\n",
       "    <tr>\n",
       "      <th>396</th>\n",
       "      <td>16073</td>\n",
       "      <td>631</td>\n",
       "    </tr>\n",
       "    <tr>\n",
       "      <th>397</th>\n",
       "      <td>16074</td>\n",
       "      <td>767</td>\n",
       "    </tr>\n",
       "    <tr>\n",
       "      <th>398</th>\n",
       "      <td>16075</td>\n",
       "      <td>641</td>\n",
       "    </tr>\n",
       "    <tr>\n",
       "      <th>399</th>\n",
       "      <td>16076</td>\n",
       "      <td>750</td>\n",
       "    </tr>\n",
       "    <tr>\n",
       "      <th>400</th>\n",
       "      <td>16077</td>\n",
       "      <td>939</td>\n",
       "    </tr>\n",
       "  </tbody>\n",
       "</table>\n",
       "<p>401 rows × 2 columns</p>\n",
       "</div>"
      ]
     },
     "metadata": {},
     "execution_count": 6
    }
   ],
   "metadata": {}
  },
  {
   "cell_type": "code",
   "execution_count": 7,
   "source": [
    "df_fraud.head()"
   ],
   "outputs": [
    {
     "output_type": "execute_result",
     "data": {
      "text/plain": [
       "      kreis_key                                          Straftat  crimes_2018\n",
       "8421       1001  Betrug §§ 263, 263a, 264, 264a, 265, 265a-e StGB          765\n",
       "8422       1002  Betrug §§ 263, 263a, 264, 264a, 265, 265a-e StGB         2118\n",
       "8423       1003  Betrug §§ 263, 263a, 264, 264a, 265, 265a-e StGB         1889\n",
       "8424       1004  Betrug §§ 263, 263a, 264, 264a, 265, 265a-e StGB         1253\n",
       "8425       1051  Betrug §§ 263, 263a, 264, 264a, 265, 265a-e StGB          820"
      ],
      "text/html": [
       "<div>\n",
       "<style scoped>\n",
       "    .dataframe tbody tr th:only-of-type {\n",
       "        vertical-align: middle;\n",
       "    }\n",
       "\n",
       "    .dataframe tbody tr th {\n",
       "        vertical-align: top;\n",
       "    }\n",
       "\n",
       "    .dataframe thead th {\n",
       "        text-align: right;\n",
       "    }\n",
       "</style>\n",
       "<table border=\"1\" class=\"dataframe\">\n",
       "  <thead>\n",
       "    <tr style=\"text-align: right;\">\n",
       "      <th></th>\n",
       "      <th>kreis_key</th>\n",
       "      <th>Straftat</th>\n",
       "      <th>crimes_2018</th>\n",
       "    </tr>\n",
       "  </thead>\n",
       "  <tbody>\n",
       "    <tr>\n",
       "      <th>8421</th>\n",
       "      <td>1001</td>\n",
       "      <td>Betrug §§ 263, 263a, 264, 264a, 265, 265a-e StGB</td>\n",
       "      <td>765</td>\n",
       "    </tr>\n",
       "    <tr>\n",
       "      <th>8422</th>\n",
       "      <td>1002</td>\n",
       "      <td>Betrug §§ 263, 263a, 264, 264a, 265, 265a-e StGB</td>\n",
       "      <td>2118</td>\n",
       "    </tr>\n",
       "    <tr>\n",
       "      <th>8423</th>\n",
       "      <td>1003</td>\n",
       "      <td>Betrug §§ 263, 263a, 264, 264a, 265, 265a-e StGB</td>\n",
       "      <td>1889</td>\n",
       "    </tr>\n",
       "    <tr>\n",
       "      <th>8424</th>\n",
       "      <td>1004</td>\n",
       "      <td>Betrug §§ 263, 263a, 264, 264a, 265, 265a-e StGB</td>\n",
       "      <td>1253</td>\n",
       "    </tr>\n",
       "    <tr>\n",
       "      <th>8425</th>\n",
       "      <td>1051</td>\n",
       "      <td>Betrug §§ 263, 263a, 264, 264a, 265, 265a-e StGB</td>\n",
       "      <td>820</td>\n",
       "    </tr>\n",
       "  </tbody>\n",
       "</table>\n",
       "</div>"
      ]
     },
     "metadata": {},
     "execution_count": 7
    }
   ],
   "metadata": {}
  }
 ],
 "metadata": {
  "orig_nbformat": 4,
  "language_info": {
   "name": "python",
   "version": "3.9.2",
   "mimetype": "text/x-python",
   "codemirror_mode": {
    "name": "ipython",
    "version": 3
   },
   "pygments_lexer": "ipython3",
   "nbconvert_exporter": "python",
   "file_extension": ".py"
  },
  "kernelspec": {
   "name": "python3",
   "display_name": "Python 3.9.2 64-bit ('env': venv)"
  },
  "interpreter": {
   "hash": "ac92c7ad7e1c679c936e9af8f600d69f4d841fe404e5c5fd7a52713169de6bd4"
  }
 },
 "nbformat": 4,
 "nbformat_minor": 2
}