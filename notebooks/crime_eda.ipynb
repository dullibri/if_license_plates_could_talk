{
 "cells": [
  {
   "cell_type": "code",
   "execution_count": 1,
   "source": [
    "import pandas as pd"
   ],
   "outputs": [],
   "metadata": {}
  },
  {
   "cell_type": "code",
   "execution_count": 4,
   "source": [
    "df = pd.read_csv(\"../data/raw/crime/bka/2018/BKA-LKS-F-03-T01-Kreise_csv.csv\", encoding=\"ISO-8859-1\",\n",
    "                     delimiter=\";\", skiprows=1, thousands=\",\")"
   ],
   "outputs": [],
   "metadata": {}
  },
  {
   "cell_type": "code",
   "execution_count": 14,
   "source": [
    "# Types of crime\n",
    "\n",
    "crime_cats = pd.DataFrame(df.Straftat.unique())\n",
    "crime_cats.columns = [\"Kategorie\"]\n",
    "crime_cats.to_csv(\"../data/raw/crime/bka/2018/crime_cats.csv\")\n"
   ],
   "outputs": [],
   "metadata": {}
  },
  {
   "cell_type": "code",
   "execution_count": null,
   "source": [
    "potential_fraud_categories = [\"Betrug §§ 263, 263a, 264, 264a, 265, 265a-e StGB\", \"Urkundenfälschung §§ 267-271, 273-279, 281 StGB\"]"
   ],
   "outputs": [],
   "metadata": {}
  }
 ],
 "metadata": {
  "orig_nbformat": 4,
  "language_info": {
   "name": "python",
   "version": "3.9.2",
   "mimetype": "text/x-python",
   "codemirror_mode": {
    "name": "ipython",
    "version": 3
   },
   "pygments_lexer": "ipython3",
   "nbconvert_exporter": "python",
   "file_extension": ".py"
  },
  "kernelspec": {
   "name": "python3",
   "display_name": "Python 3.9.2 64-bit ('env': venv)"
  },
  "interpreter": {
   "hash": "ac92c7ad7e1c679c936e9af8f600d69f4d841fe404e5c5fd7a52713169de6bd4"
  }
 },
 "nbformat": 4,
 "nbformat_minor": 2
}