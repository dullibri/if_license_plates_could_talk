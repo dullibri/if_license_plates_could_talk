{
 "cells": [
  {
   "cell_type": "code",
   "execution_count": 1,
   "source": [
    "import geopandas as gpd\n",
    "import pandas as pd\n",
    "import numpy as np\n",
    "import matplotlib.pyplot as plt\n",
    "import os\n",
    "import pyproj\n",
    "\n",
    "plt.style.use(\"seaborn\")"
   ],
   "outputs": [],
   "metadata": {}
  },
  {
   "cell_type": "code",
   "execution_count": 2,
   "source": [
    "df_geo = gpd.read_file(os.path.join(\"..\", \"geo\", \"shapefiles\", \"kreisgrenzen_2019-shp\", \"Kreisgrenzen_2019.shp\"))\n",
    "df_raw = pd.read_csv(\"../data/processed/data.csv\", index_col = 0)\n",
    "\n",
    "df_geo.to_crs(pyproj.CRS.from_epsg(4326), inplace = True)"
   ],
   "outputs": [],
   "metadata": {}
  },
  {
   "cell_type": "code",
   "execution_count": 3,
   "source": [
    "df = df_raw[df_raw.columns[1:]]\n",
    "df = df.drop_duplicates()\n",
    "df = df.sort_values(\"kreis_key\").reset_index(drop=True)\n",
    "df = df[[\"kreis_key\", \"kreis_name\",  \"income_pp_2018\", \"income_2018\", \"crimes_2018\", \"population_2018\", \"crimes_pp_2018\"]]\n",
    "df = df.dropna()\n",
    "df.kreis_key = df.kreis_key.astype(int).astype(str).str.zfill(5)\n",
    "df.income_pp_2018 = pd.to_numeric(df.income_pp_2018)"
   ],
   "outputs": [],
   "metadata": {}
  },
  {
   "cell_type": "code",
   "execution_count": 4,
   "source": [
    "df.info()"
   ],
   "outputs": [
    {
     "output_type": "stream",
     "name": "stdout",
     "text": [
      "<class 'pandas.core.frame.DataFrame'>\n",
      "Int64Index: 401 entries, 0 to 472\n",
      "Data columns (total 7 columns):\n",
      " #   Column           Non-Null Count  Dtype  \n",
      "---  ------           --------------  -----  \n",
      " 0   kreis_key        401 non-null    object \n",
      " 1   kreis_name       401 non-null    object \n",
      " 2   income_pp_2018   401 non-null    int64  \n",
      " 3   income_2018      401 non-null    object \n",
      " 4   crimes_2018      401 non-null    float64\n",
      " 5   population_2018  401 non-null    object \n",
      " 6   crimes_pp_2018   401 non-null    float64\n",
      "dtypes: float64(2), int64(1), object(4)\n",
      "memory usage: 25.1+ KB\n"
     ]
    }
   ],
   "metadata": {}
  },
  {
   "cell_type": "code",
   "execution_count": 5,
   "source": [
    "df_comb = df_geo.merge(df, left_on = \"RS\", right_on = \"kreis_key\", how = \"left\", validate =\"one_to_one\")"
   ],
   "outputs": [],
   "metadata": {}
  },
  {
   "cell_type": "code",
   "execution_count": 6,
   "source": [
    "plt.rcParams[\"figure.figsize\"] = [16, 11]"
   ],
   "outputs": [],
   "metadata": {}
  },
  {
   "cell_type": "code",
   "execution_count": 7,
   "source": [
    "fig, ax = plt.subplots()\n",
    "\n",
    "df_comb.plot(\n",
    "    ax=ax, \n",
    "    column='income_pp_2018',\n",
    "    alpha=0.9,\n",
    "    legend = True\n",
    ")\n",
    "\n",
    "ax.set(\n",
    "    title='Verfügbares Einkommen der privaten Haushalte in Euro je Einwohner (2018)', \n",
    "    aspect=1.3, \n",
    "    facecolor='lightblue'\n",
    ");\n",
    "\n",
    "plt.figtext(0.5, 0.02, \"Datenquelle: Regionaldatenbank Deutschland, 2021\", ha=\"center\", fontsize=10)\n",
    "\n",
    "plt.savefig(os.path.join(\"..\", \"output\", \"income_pp_2018.png\"))\n",
    "plt.close(\"all\")\n"
   ],
   "outputs": [],
   "metadata": {}
  },
  {
   "cell_type": "code",
   "execution_count": 8,
   "source": [
    "fig, ax = plt.subplots()\n",
    "\n",
    "df_comb.plot(\n",
    "    ax=ax, \n",
    "    column='crimes_pp_2018',\n",
    "    alpha=0.9,\n",
    "    legend = True\n",
    ")\n",
    "\n",
    "ax.set(\n",
    "    title='Erfasste Straftaten je Einwohner (2018)', \n",
    "    aspect=1.3, \n",
    "    facecolor='lightblue'\n",
    ");\n",
    "\n",
    "plt.figtext(0.5, 0.02, \"Datenquelle: BKA, 2019\", ha=\"center\", fontsize=10)\n",
    "\n",
    "plt.savefig(os.path.join(\"..\", \"output\", \"crimes_pp_2018.png\"))\n",
    "plt.close(\"all\")"
   ],
   "outputs": [],
   "metadata": {}
  }
 ],
 "metadata": {
  "orig_nbformat": 4,
  "language_info": {
   "name": "python",
   "version": "3.9.2",
   "mimetype": "text/x-python",
   "codemirror_mode": {
    "name": "ipython",
    "version": 3
   },
   "pygments_lexer": "ipython3",
   "nbconvert_exporter": "python",
   "file_extension": ".py"
  },
  "kernelspec": {
   "name": "python3",
   "display_name": "Python 3.9.2 64-bit ('env': venv)"
  },
  "interpreter": {
   "hash": "ac92c7ad7e1c679c936e9af8f600d69f4d841fe404e5c5fd7a52713169de6bd4"
  }
 },
 "nbformat": 4,
 "nbformat_minor": 2
}